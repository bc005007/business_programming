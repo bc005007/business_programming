{
 "cells": [
  {
   "cell_type": "markdown",
   "metadata": {},
   "source": [
    "# 문제 1. 오늘 할 일"
   ]
  },
  {
   "cell_type": "code",
   "execution_count": 2,
   "metadata": {},
   "outputs": [
    {
     "name": "stdout",
     "output_type": "stream",
     "text": [
      "끝내야 하는 일의 개수: 5\n",
      "오늘의 피로도 할당량: 10\n",
      "오늘의 할 일 목록: 5 20 1 7 10\n"
     ]
    }
   ],
   "source": [
    "N = int(input('끝내야 하는 일의 개수: ')) \n",
    "P = int(input('오늘의 피로도 할당량: '))\n",
    "\n",
    "# 예제 입력과 같이 공백으로 나눠서 입력해보세요.\n",
    "works = list(map(int, input('오늘의 할 일 목록: ').split(' ')))"
   ]
  },
  {
   "cell_type": "code",
   "execution_count": 3,
   "metadata": {},
   "outputs": [
    {
     "data": {
      "text/plain": [
       "(5, 10, [5, 20, 1, 7, 10])"
      ]
     },
     "execution_count": 3,
     "metadata": {},
     "output_type": "execute_result"
    }
   ],
   "source": [
    "N, P, works"
   ]
  },
  {
   "cell_type": "markdown",
   "metadata": {},
   "source": [
    "### K가 끝낼 수 있는 일의 최대 개수 구하기"
   ]
  },
  {
   "cell_type": "code",
   "execution_count": 4,
   "metadata": {},
   "outputs": [
    {
     "name": "stdout",
     "output_type": "stream",
     "text": [
      "3\n"
     ]
    }
   ],
   "source": [
    "\"\"\" 할 수 있는 일의 최대 개수이니까 works의 리스트를 정렬을 하여 최소 값부터 차근 차근 넣어 보려고 한다 \"\"\"\n",
    "\n",
    "# 리스트 오름차순으로 정렬한다\n",
    "works.sort()\n",
    "\n",
    "# 반복문으로 하나씩 꺼내서 일하기\n",
    "n = 0 # 오늘 끝낸 일의 개수\n",
    "for w in works:\n",
    "    if P <= 0:\n",
    "        break\n",
    "    else:\n",
    "        P -= w\n",
    "        n += 1\n",
    "\n",
    "print(n)"
   ]
  }
 ],
 "metadata": {
  "kernelspec": {
   "display_name": "Python 3 (ipykernel)",
   "language": "python",
   "name": "python3"
  },
  "language_info": {
   "codemirror_mode": {
    "name": "ipython",
    "version": 3
   },
   "file_extension": ".py",
   "mimetype": "text/x-python",
   "name": "python",
   "nbconvert_exporter": "python",
   "pygments_lexer": "ipython3",
   "version": "3.9.12"
  },
  "vscode": {
   "interpreter": {
    "hash": "90dd8e222e66a46c4823a1b4b9d1b064846d8df9c63935832874d2206236ab47"
   }
  }
 },
 "nbformat": 4,
 "nbformat_minor": 2
}
