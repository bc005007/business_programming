{
 "cells": [
  {
   "cell_type": "markdown",
   "id": "fcb7deb7",
   "metadata": {},
   "source": [
    "# 도전 문제 #9\n",
    "\n",
    "---"
   ]
  },
  {
   "cell_type": "markdown",
   "id": "876567d5",
   "metadata": {},
   "source": [
    "### 문제\n",
    "\n",
    "상혁이는 만보기를 가지고 있다. 이 만보기에는 독특한 특징이 있는데 이는 바로 숫자 4를 나타낼 수 없다는 것이다. 즉, 숫자 3 다음에는 바로 5가 보여지게 된다는 것이다.\n",
    "\n",
    "만약 현재 113이 보여지는 상태에서 한 걸음을 더 걷는다면 115로 보여지게 된다.\n",
    "\n",
    "상혁이는 현재 이 만보기에 보여지는 수가 n이라면 원래 정상적인 만보기에 보여져야 할 수는 무엇이었는지가 궁금해졌다. 상혁이를 위해 이 문제를 해결해보자!\n",
    "\n",
    "\n",
    "### 제한\n",
    "\n",
    "1 ≤ n ≤ 10000\n",
    "\n",
    "### 예제 입력\n",
    "\n",
    "15\n",
    "\n",
    "### 예제 출력\n",
    "\n",
    "13"
   ]
  },
  {
   "cell_type": "code",
   "execution_count": 1,
   "id": "4ff4a582",
   "metadata": {},
   "outputs": [],
   "source": [
    "# Your code here\n",
    "def real_num(n):\n",
    "    if int(str(n)[-1])<4:\n",
    "        return n - n//10\n",
    "    else:\n",
    "        return n - (n//10 + 1)"
   ]
  },
  {
   "cell_type": "code",
   "execution_count": 5,
   "id": "cecc1db3",
   "metadata": {},
   "outputs": [
    {
     "data": {
      "text/plain": [
       "13"
      ]
     },
     "execution_count": 5,
     "metadata": {},
     "output_type": "execute_result"
    }
   ],
   "source": [
    "real_num(15)"
   ]
  },
  {
   "cell_type": "code",
   "execution_count": 3,
   "id": "1ecd53b2",
   "metadata": {},
   "outputs": [
    {
     "data": {
      "text/plain": [
       "12"
      ]
     },
     "execution_count": 3,
     "metadata": {},
     "output_type": "execute_result"
    }
   ],
   "source": [
    "real_num(13)"
   ]
  },
  {
   "cell_type": "code",
   "execution_count": null,
   "id": "5f312021",
   "metadata": {},
   "outputs": [],
   "source": []
  },
  {
   "cell_type": "code",
   "execution_count": 3,
   "id": "0bb5d57b",
   "metadata": {},
   "outputs": [],
   "source": [
    "def real_num(n):\n",
    "    result = 0\n",
    "    for i in range(len(str(n))):\n",
    "        d = n % 10\n",
    "        n = n//10\n",
    "        \n",
    "        if d > 4:\n",
    "            result += (d-1) * (9**i)\n",
    "        else:\n",
    "            result += d * (9**i)\n",
    "    \n",
    "    return result"
   ]
  },
  {
   "cell_type": "code",
   "execution_count": 4,
   "id": "46e4676d",
   "metadata": {},
   "outputs": [
    {
     "data": {
      "text/plain": [
       "117"
      ]
     },
     "execution_count": 4,
     "metadata": {},
     "output_type": "execute_result"
    }
   ],
   "source": [
    "real_num(150)"
   ]
  }
 ],
 "metadata": {
  "kernelspec": {
   "display_name": "Python 3 (ipykernel)",
   "language": "python",
   "name": "python3"
  },
  "language_info": {
   "codemirror_mode": {
    "name": "ipython",
    "version": 3
   },
   "file_extension": ".py",
   "mimetype": "text/x-python",
   "name": "python",
   "nbconvert_exporter": "python",
   "pygments_lexer": "ipython3",
   "version": "3.9.12"
  },
  "vscode": {
   "interpreter": {
    "hash": "90dd8e222e66a46c4823a1b4b9d1b064846d8df9c63935832874d2206236ab47"
   }
  }
 },
 "nbformat": 4,
 "nbformat_minor": 5
}
